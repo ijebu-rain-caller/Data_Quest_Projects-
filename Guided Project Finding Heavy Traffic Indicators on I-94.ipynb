{
 "cells": [
  {
   "cell_type": "markdown",
   "metadata": {},
   "source": [
    "# Guided Project: Analysis of the I-94 Traffic Dataset.\n",
    "\n",
    "This project involves the analysis of the I-94 dataset to understand the most significant drivers of traffic slowness on the route, factors and possible insights to reduce the incidence of traffic slowness.\n",
    "\n",
    "The goal of this project is to determine indicators of heavy traffic about the westbound region on the I-94 highway on a monthly, weekly and hourly timeframe using weather indicators and time indicators.\n",
    "\n",
    "Question: What is the greatest contributor to traffic slowness on the I-94 highway?"
   ]
  },
  {
   "cell_type": "markdown",
   "metadata": {},
   "source": [
    "## 1. Exploring the DataSet"
   ]
  },
  {
   "cell_type": "code",
   "execution_count": 6,
   "metadata": {},
   "outputs": [
    {
     "ename": "ModuleNotFoundError",
     "evalue": "No module named 'pandas'",
     "output_type": "error",
     "traceback": [
      "\u001b[1;31m---------------------------------------------------------------------------\u001b[0m",
      "\u001b[1;31mModuleNotFoundError\u001b[0m                       Traceback (most recent call last)",
      "Cell \u001b[1;32mIn[6], line 2\u001b[0m\n\u001b[0;32m      1\u001b[0m \u001b[38;5;66;03m#Import the dataset into a pandas dataframe\u001b[39;00m\n\u001b[1;32m----> 2\u001b[0m \u001b[38;5;28;01mimport\u001b[39;00m \u001b[38;5;21;01mpandas\u001b[39;00m \u001b[38;5;28;01mas\u001b[39;00m \u001b[38;5;21;01mpd\u001b[39;00m\n\u001b[0;32m      4\u001b[0m traffic_data \u001b[38;5;241m=\u001b[39m pd\u001b[38;5;241m.\u001b[39mread_csv(\u001b[38;5;124m\"\u001b[39m\u001b[38;5;124mMetro_Interstate_Traffic_Volume.csv\u001b[39m\u001b[38;5;124m\"\u001b[39m)\n\u001b[0;32m      6\u001b[0m \u001b[38;5;28mprint\u001b[39m(traffic_data\u001b[38;5;241m.\u001b[39mhead())\n",
      "\u001b[1;31mModuleNotFoundError\u001b[0m: No module named 'pandas'"
     ]
    }
   ],
   "source": [
    "#Import the dataset into a pandas dataframe\n",
    "import pandas as pd\n",
    "\n",
    "traffic_data = pd.read_csv(\"Metro_Interstate_Traffic_Volume.csv\")\n",
    "\n",
    "print(traffic_data.head())\n",
    "\n",
    "print(traffic_data.tail())\n",
    "\n",
    "print(traffic_data.info())"
   ]
  },
  {
   "cell_type": "code",
   "execution_count": null,
   "metadata": {},
   "outputs": [],
   "source": [
    "#Import matplotlib library to enable visualizations of the dataset.\n",
    "import matplotlib.pyplot as plt\n",
    "%matplotlib inline \n",
    "#Needed for jupyter to generate visualizations.\n",
    "\n",
    "\n",
    "#Plot a quick vizualisation to have an idea of the traffic volume data behavior in the data set \n",
    "traffic_data[\"traffic_volume\"].plot.hist()"
   ]
  },
  {
   "cell_type": "code",
   "execution_count": null,
   "metadata": {},
   "outputs": [],
   "source": [
    "#Use the dataframe series describe function to look into stats about traffic volume.\n",
    "traffic_data[\"traffic_volume\"].describe()\n",
    "\n"
   ]
  },
  {
   "cell_type": "markdown",
   "metadata": {},
   "source": [
    "# Time Indicators\n",
    "\n",
    "From the above information, it is worthwhile to consider the effects of daytime and nightime on traffic volume\n",
    "on the traffic volume on the I-94 highway. 25% of the time, 1,193 cars or less traverse the highway indicating either nightime or road down time.\n",
    "75% of the time, 4,933 cars or less traverse the road indicating a high probablility of day time travel.\n",
    "\n",
    "A good starting point for analysis would be to section the dataset into two parts (daytime and nighttime) to give our analysis better direction.\n",
    "\n",
    "Daytime data: 7 a.m. to 7 p.m. (12 hours)\n",
    "\n",
    "Nighttime data: 7 p.m. to 7 a.m. (12 hours)\n",
    "\n",
    "NB; The time periods chosen are arbitrary and only allow for a sense of guidance.\n"
   ]
  },
  {
   "cell_type": "code",
   "execution_count": null,
   "metadata": {},
   "outputs": [],
   "source": [
    "#Transform the date_time column to a pandas datetime object to enable ease in working with month, week, and hour metrics.\n",
    "traffic_data[\"date_time\"] = pd.to_datetime(traffic_data[\"date_time\"])\n",
    "print(traffic_data[\"date_time\"].head())\n",
    "print(type(traffic_data[\"date_time\"]))\n",
    "\n"
   ]
  },
  {
   "cell_type": "code",
   "execution_count": null,
   "metadata": {},
   "outputs": [],
   "source": [
    "# Start with \"hour\" metric by using the dt.hour attribute to extract the hours in the date_time column in the traffic data dataset.\n",
    "traffic_data[\"hour\"] = traffic_data[\"date_time\"].dt.hour\n",
    "\n",
    "print(traffic_data[\"hour\"].head())"
   ]
  },
  {
   "cell_type": "code",
   "execution_count": null,
   "metadata": {
    "scrolled": false
   },
   "outputs": [],
   "source": [
    "#The code block below isolates daytime and nighttime hour data to enable a clearer and more distinct analysis.\n",
    "daytime_data = traffic_data[(traffic_data[\"hour\"] >= 7) & (traffic_data[\"hour\"] < 19)]\n",
    "print(daytime_data.head())\n",
    "\n",
    "nighttime_data = traffic_data[(traffic_data[\"hour\"] >= 19) | (traffic_data[\"hour\"] < 7)]\n",
    "print(nighttime_data.head())\n"
   ]
  },
  {
   "cell_type": "code",
   "execution_count": null,
   "metadata": {},
   "outputs": [
    {
     "ename": "NameError",
     "evalue": "name 'plt' is not defined",
     "output_type": "error",
     "traceback": [
      "\u001b[1;31m---------------------------------------------------------------------------\u001b[0m",
      "\u001b[1;31mNameError\u001b[0m                                 Traceback (most recent call last)",
      "Cell \u001b[1;32mIn[5], line 4\u001b[0m\n\u001b[0;32m      1\u001b[0m \u001b[38;5;66;03m#Plotting a simple visualization to display the relationship existing between day and night traffic volumes on an hourly basis.\u001b[39;00m\n\u001b[0;32m      2\u001b[0m \n\u001b[0;32m      3\u001b[0m \u001b[38;5;66;03m#Creating a figure template to house the histograms\u001b[39;00m\n\u001b[1;32m----> 4\u001b[0m \u001b[43mplt\u001b[49m\u001b[38;5;241m.\u001b[39mfigure(figsize\u001b[38;5;241m=\u001b[39m(\u001b[38;5;241m8\u001b[39m,\u001b[38;5;241m7\u001b[39m))\n\u001b[0;32m      6\u001b[0m plt\u001b[38;5;241m.\u001b[39msubplot(\u001b[38;5;241m3\u001b[39m,\u001b[38;5;241m2\u001b[39m,\u001b[38;5;241m1\u001b[39m)\n\u001b[0;32m      7\u001b[0m plt\u001b[38;5;241m.\u001b[39mhist(daytime_data[\u001b[38;5;124m\"\u001b[39m\u001b[38;5;124mtraffic_volume\u001b[39m\u001b[38;5;124m\"\u001b[39m])\n",
      "\u001b[1;31mNameError\u001b[0m: name 'plt' is not defined"
     ]
    }
   ],
   "source": [
    "#Plotting a simple visualization to display the relationship existing between day and night traffic volumes on an hourly basis.\n",
    "\n",
    "#Creating a figure template to house the histograms\n",
    "plt.figure(figsize=(8,7))\n",
    "\n",
    "plt.subplot(3,2,1)\n",
    "plt.hist(daytime_data[\"traffic_volume\"])\n",
    "plt.title(\"Traffic Volume - Daytime\")\n",
    "plt.xlabel(\"Traffic volume\")\n",
    "plt.ylim([0,8000])\n",
    "plt.xlim([6,20])\n",
    "\n",
    "\n",
    "plt.subplot(3,2,2)\n",
    "plt.hist(nighttime_data[\"traffic_volume\"])\n",
    "plt.title(\"Traffic Volume - Nighttime\")\n",
    "plt.xlabel(\"Traffic volume\")\n",
    "plt.ylim([0,8000])\n",
    "plt.xlim([19,7])\n",
    "\n",
    "\n",
    "\n"
   ]
  },
  {
   "cell_type": "markdown",
   "metadata": {},
   "source": [
    "From the above visualizations, Daytime traffic vizualisations indicate higher traffic volume during the day whilst the Nighttime traffic vizaulisations indicate light traffic at night. Night time traffic data should be reconsidered for this analysis to ensure accuracy.\n",
    "\n",
    "Since our main goal is to find indicators of heavy traffic, working with daytime data solely is optimal.\n",
    "\n",
    "The next actions would involve working with time indicators such as month, day of the week and time of the day to streamline heavy traffic behavior.\n",
    "\n"
   ]
  },
  {
   "cell_type": "code",
   "execution_count": null,
   "metadata": {},
   "outputs": [],
   "source": [
    "#This block of code shows the mean data of traffic volume grouped by month to reflect the \n",
    "# months with the highest traffic volume from January to December.\n",
    "\n",
    "traffic_data[\"month\"] = traffic_data[\"date_time\"].dt.month\n",
    "by_month = traffic_data.groupby(\"month\").mean()\n",
    "by_month[\"traffic_volume\"]\n",
    "\n",
    "#Generating a line plot to vizualise the traffic volume over the months of the year.\n",
    "plt.plot(by_month[\"traffic_volume\"])\n",
    "plt.title(\"Traffic Volume - Months of the Year\")\n",
    "plt.xticks([1,2,3,4,5,6,7,8,9,10,11,12],['January','February','March','April','May','June','July',\"August\",\"September\",\"October\",\"November\",\"December\"],rotation=45)\n",
    "plt.show()"
   ]
  },
  {
   "cell_type": "markdown",
   "metadata": {},
   "source": [
    "From the line plot generated above for monthly traffic volume intensity, a steady rise was observed over the first half of the year with a sudden drop indicated in July. A drastic drop was also observed in the month of December."
   ]
  },
  {
   "cell_type": "code",
   "execution_count": null,
   "metadata": {},
   "outputs": [],
   "source": [
    "# Generate a line plot to observe the behavior of traffic volume on the days\n",
    "# time frame.\n",
    "\n",
    "traffic_data[\"dayofweek\"] = traffic_data[\"date_time\"].dt.dayofweek\n",
    "by_dayofweek = traffic_data.groupby(\"dayofweek\").mean()\n",
    "by_dayofweek[\"traffic_volume\"]\n",
    "\n",
    "# NB: 0 is Monday, 1 is Tuesday and so forth.\n",
    "\n",
    "# Generate a line plot to vizualise the traffic volume over the days of the week.\n",
    "plt.plot(by_dayofweek[\"traffic_volume\"])\n",
    "plt.title(\"Traffic Volume - Days of the Week\")\n",
    "plt.xticks([0,1,2,3,4,5,6],['Monday','Tuesday','Wednesday','Thursday','Friday','Saturday','Sunday'],rotation=45)\n",
    "plt.show()"
   ]
  },
  {
   "cell_type": "markdown",
   "metadata": {},
   "source": [
    "From the above vizualisation, a significant decline was observed during the weekend on Saturdays and Sundays showing less traffic volume than on weekdays."
   ]
  },
  {
   "cell_type": "code",
   "execution_count": null,
   "metadata": {},
   "outputs": [],
   "source": [
    "# Generate a line plot to capture traffic volume over the hours of each day.\n",
    "# Considering the effects of the weekend on the total average values, it makes more sense to split the data to weekdays and weekends.\n",
    "traffic_data[\"hour\"] = traffic_data[\"date_time\"].dt.hour\n",
    "week_days = traffic_data.copy()[traffic_data[\"dayofweek\"] <= 4] # 4 == Friday\n",
    "week_end = traffic_data.copy()[traffic_data[\"dayofweek\"] >= 5] # 5 == Saturday\n",
    "by_hour_weekday = week_days.groupby(\"hour\").mean()\n",
    "by_hour_weekend = week_end.groupby(\"hour\").mean()\n",
    "\n",
    "print(by_hour_weekday[\"traffic_volume\"])\n",
    "print(by_hour_weekend[\"traffic_volume\"])\n",
    "\n"
   ]
  },
  {
   "cell_type": "code",
   "execution_count": null,
   "metadata": {},
   "outputs": [],
   "source": [
    "# Plot line graphs on a grid chart to vizualise the behavior of traffic volume through the hours of the day.\n",
    "\n",
    "#For the week day data.\n",
    "plt.figure(figsize=(10,4))\n",
    "plt.subplot(1,2,1)\n",
    "plt.plot(by_hour_weekday[\"traffic_volume\"])\n",
    "plt.title(\"Traffic Volume - Weekdays\")\n",
    "plt.xlabel(\"Traffic volume\")\n",
    "plt.ylabel(\"Volume Count\")\n",
    "plt.ylim([0,7000])\n",
    "plt.xlim([0,8])\n",
    "\n",
    "\n",
    "#For the week end data.\n",
    "plt.subplot(1,2,2)\n",
    "plt.plot(by_hour_weekend[\"traffic_volume\"])\n",
    "plt.title(\"Traffic Volume - Weekend\")\n",
    "plt.xlabel(\"Traffic volume\")\n",
    "plt.ylim([0,7000])\n",
    "plt.xlim([0,8])\n",
    "\n",
    "\n"
   ]
  },
  {
   "cell_type": "markdown",
   "metadata": {},
   "source": [
    "The above vizualisation reflects the behavior of traffic volume over different hours in each day. Sectioned into weekdays and weekends, traffic volume was seen to be peak in the latter hours of the weekdays (i.e 6pm - 7pm) whilst over the weekend low traffic volume was recorded through the course of the day.\n",
    "\n",
    "A high level summary can be deduced from the vizualisations on the monthly, weekly and hourly time scales.\n",
    "1. The traffic is generally heavier during the Autumn - Summer months i.e March - October, compared to the Winter months i.e November - February.\n",
    "\n",
    "2. The traffic is naturally heavier on weekdays than on weekends.\n",
    "\n",
    "3. On weekdays (business days), peak traffic volume is reflected in the latter hours of the day i.e 4pm - 8pm."
   ]
  },
  {
   "cell_type": "markdown",
   "metadata": {},
   "source": [
    "# Weather Indicators\n",
    "\n",
    "A viable contributor to heavy traffic is weather. The dataset provided contains metrics that point to weather behaviour i.e temperature, weather description etc.\n",
    "\n",
    "Correlation values enable a better relationship of traffic volume/intensity and all the weather metrics povided by the dataset"
   ]
  },
  {
   "cell_type": "code",
   "execution_count": null,
   "metadata": {},
   "outputs": [],
   "source": [
    "traffic_data.corr()[\"traffic_volume\"]\n",
    "\n"
   ]
  },
  {
   "cell_type": "markdown",
   "metadata": {},
   "source": [
    "From the correlation values above, the temp weather metric correlates strongly to traffic volume on the I-94 highway.\n",
    "\n",
    "A scatter plot with both metrics reflect the behavior in a visual and exploratory manner."
   ]
  },
  {
   "cell_type": "code",
   "execution_count": null,
   "metadata": {},
   "outputs": [],
   "source": [
    "plt.figure(figsize=(6,4))\n",
    "plt.scatter(traffic_data[\"traffic_volume\"], traffic_data['temp'])\n",
    "plt.title(\"Traffic Volume and Temperature\")\n",
    "plt.xlabel(\"Traffic Volume\")\n",
    "plt.ylabel(\"Temperature\")\n",
    "plt.ylim([230,320])\n",
    "plt.xlim([-500,8000])\n",
    "\n",
    "plt.show()"
   ]
  },
  {
   "cell_type": "markdown",
   "metadata": {},
   "source": [
    "The above vizualisation does not reflect a reliable indicator of heavy traffic in spite of its leading correlation value amongst other metrics.\n",
    "\n",
    "A viable route to consider to find useful data pointing out heavy traffic volume would be to look into categorical weather related columns: weather_main and weather_description.\n",
    "\n"
   ]
  },
  {
   "cell_type": "code",
   "execution_count": null,
   "metadata": {},
   "outputs": [],
   "source": [
    "by_weather_main = traffic_data.groupby('weather_main').mean()\n",
    "by_weather_description = traffic_data.groupby('weather_description').mean()"
   ]
  },
  {
   "cell_type": "code",
   "execution_count": null,
   "metadata": {},
   "outputs": [],
   "source": [
    "by_weather_main['traffic_volume'].plot.barh()\n",
    "plt.xlabel('Traffic Volume')\n",
    "plt.show()"
   ]
  },
  {
   "cell_type": "markdown",
   "metadata": {},
   "source": [
    "From the vizualisation above, it can be seen that weather markers of heavy traffic volume include Clouds and Haze. The max traffic volume exists within the 3000 - 4000 car range.\n",
    "\n"
   ]
  },
  {
   "cell_type": "code",
   "execution_count": null,
   "metadata": {},
   "outputs": [],
   "source": [
    "plt.figure(figsize=(7,10))\n",
    "by_weather_description[\"traffic_volume\"].plot.barh()\n",
    "plt.xlabel(\"Traffic Volume\")\n",
    "plt.show()"
   ]
  },
  {
   "cell_type": "markdown",
   "metadata": {},
   "source": [
    "According to the vizualisation above, traffic volume has exceeded 5000 in weather_description markers such as shower snow. Other notable markers include: sleet, proximity shower rain, light shower snow and freezing rain."
   ]
  },
  {
   "cell_type": "markdown",
   "metadata": {},
   "source": [
    "# Conclusion \n",
    "\n",
    "After extensive analysis on weather and time indicators, the following notes can be made:\n",
    "Time indicators\n",
    "i. The traffic is usually heavier during warm months (March–October) compared to cold months (November–February).\n",
    "ii. The traffic is usually heavier on business days compared to the weekends.\n",
    "iii. On business days, the rush hours are around 7 and 16.\n",
    "Weather indicators\n",
    "i. Shower snow\n",
    "ii. Light rain and snow\n",
    "Proximity thunderstorm with drizzle"
   ]
  }
 ],
 "metadata": {
  "kernelspec": {
   "display_name": "Python 3",
   "language": "python",
   "name": "python3"
  },
  "language_info": {
   "codemirror_mode": {
    "name": "ipython",
    "version": 3
   },
   "file_extension": ".py",
   "mimetype": "text/x-python",
   "name": "python",
   "nbconvert_exporter": "python",
   "pygments_lexer": "ipython3",
   "version": "3.11.1"
  }
 },
 "nbformat": 4,
 "nbformat_minor": 4
}
